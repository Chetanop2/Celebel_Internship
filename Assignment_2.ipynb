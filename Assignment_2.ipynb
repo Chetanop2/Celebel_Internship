{
  "nbformat": 4,
  "nbformat_minor": 0,
  "metadata": {
    "colab": {
      "provenance": [],
      "authorship_tag": "ABX9TyMG/TETgrKd+Gc1NTeF8m3Z",
      "include_colab_link": true
    },
    "kernelspec": {
      "name": "python3",
      "display_name": "Python 3"
    },
    "language_info": {
      "name": "python"
    }
  },
  "cells": [
    {
      "cell_type": "markdown",
      "metadata": {
        "id": "view-in-github",
        "colab_type": "text"
      },
      "source": [
        "<a href=\"https://colab.research.google.com/github/Chetanop2/Celebel_Internship/blob/main/Assignment_2.ipynb\" target=\"_parent\"><img src=\"https://colab.research.google.com/assets/colab-badge.svg\" alt=\"Open In Colab\"/></a>"
      ]
    },
    {
      "cell_type": "code",
      "execution_count": null,
      "metadata": {
        "colab": {
          "base_uri": "https://localhost:8080/"
        },
        "id": "DdHlNg-Iknpv",
        "outputId": "bd998b66-326f-4d18-cce4-5522717090c9"
      },
      "outputs": [
        {
          "output_type": "stream",
          "name": "stdout",
          "text": [
            "Initial list:\n",
            "10 -> 20 -> 30 -> 40 -> None\n",
            "Deleting node at position 3 with value 30\n",
            "List after deleting 3rd node:\n",
            "10 -> 20 -> 40 -> None\n",
            "Error: Index 10 is out of range.\n",
            "Error: Cannot delete from an empty list.\n"
          ]
        }
      ],
      "source": [
        "class Node:\n",
        "    def __init__(self, data):\n",
        "        self.data = data\n",
        "        self.next = None\n",
        "\n",
        "\n",
        "class LinkedList:\n",
        "    def __init__(self):\n",
        "        self.head = None\n",
        "\n",
        "    def add_node(self, data):\n",
        "        \"\"\"Adds a node with the given data to the end of the list.\"\"\"\n",
        "        new_node = Node(data)\n",
        "        if not self.head:\n",
        "            self.head = new_node\n",
        "            return\n",
        "        current = self.head\n",
        "        while current.next:\n",
        "            current = current.next\n",
        "        current.next = new_node\n",
        "\n",
        "    def print_list(self):\n",
        "        \"\"\"Prints the linked list.\"\"\"\n",
        "        if not self.head:\n",
        "            print(\"List is empty.\")\n",
        "            return\n",
        "        current = self.head\n",
        "        while current:\n",
        "            print(current.data, end=\" -> \")\n",
        "            current = current.next\n",
        "        print(\"None\")\n",
        "\n",
        "    def delete_nth_node(self, n):\n",
        "        \"\"\"Deletes the nth node in the list (1-based index).\"\"\"\n",
        "        if not self.head:\n",
        "            raise IndexError(\"Cannot delete from an empty list.\")\n",
        "\n",
        "        if n <= 0:\n",
        "            raise IndexError(\"Index must be a positive integer.\")\n",
        "\n",
        "        if n == 1:\n",
        "            print(f\"Deleting node at position {n} with value {self.head.data}\")\n",
        "            self.head = self.head.next\n",
        "            return\n",
        "\n",
        "        current = self.head\n",
        "        prev = None\n",
        "        count = 1\n",
        "\n",
        "        while current and count < n:\n",
        "            prev = current\n",
        "            current = current.next\n",
        "            count += 1\n",
        "\n",
        "        if not current:\n",
        "            raise IndexError(f\"Index {n} is out of range.\")\n",
        "\n",
        "        print(f\"Deleting node at position {n} with value {current.data}\")\n",
        "        prev.next = current.next\n",
        "\n",
        "\n",
        "if __name__ == \"__main__\":\n",
        "    ll = LinkedList()\n",
        "\n",
        "\n",
        "    ll.add_node(10)\n",
        "    ll.add_node(20)\n",
        "    ll.add_node(30)\n",
        "    ll.add_node(40)\n",
        "    print(\"Initial list:\")\n",
        "    ll.print_list()\n",
        "\n",
        "\n",
        "    try:\n",
        "        ll.delete_nth_node(3)\n",
        "    except IndexError as e:\n",
        "        print(f\"Error: {e}\")\n",
        "    print(\"List after deleting 3rd node:\")\n",
        "    ll.print_list()\n",
        "\n",
        "    try:\n",
        "        ll.delete_nth_node(10)\n",
        "    except IndexError as e:\n",
        "        print(f\"Error: {e}\")\n",
        "\n",
        "    empty_list = LinkedList()\n",
        "    try:\n",
        "        empty_list.delete_nth_node(1)\n",
        "    except IndexError as e:\n",
        "        print(f\"Error: {e}\")\n"
      ]
    }
  ]
}